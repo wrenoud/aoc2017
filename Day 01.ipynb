{
 "cells": [
  {
   "cell_type": "code",
   "execution_count": 1,
   "metadata": {},
   "outputs": [],
   "source": [
    "import unittest"
   ]
  },
  {
   "cell_type": "code",
   "execution_count": 2,
   "metadata": {},
   "outputs": [],
   "source": [
    "puzzleinput = \"111831362354551173134957758417849716877188716338227121869992652972154651632296676464285261171625892888598738721925357479249486886375279741651224686642647267979445939836673253446489428761486828844713816198414852769942459766921928735591892723619845983117283575762694758223956262583556675379533479458964152461973321432768858165818549484229241869657725166769662249574889435227698271439423511175653875622976121749344756734658248245212273242115488961818719828258936653236351924292251821352389471971641957941593141159982696396228218461855752555358856127582128823657548151545741663495182446281491763249374581774426225822474112338745629194213976328762985884127324443984163571711941113986826168921187567861288268744663142867866165546795621466134333541274633769865956692539151971953651886381195877638919355216642731848659649263217258599456646635412623461138792945854536154976732167439355548965778313264824237176152196614333748919711422188148687299757751955297978137561935963366682742334867854892581388263132968999722366495346854828316842352829827989419393594846893842746149235681921951476132585199265366836257322121681471877187847219712325933714149151568922456111149524629995933156924418468567649494728828858254296824372929211977446729691143995333874752448315632185286348657293395339475256796591968717487615896959976413637422536563273537972841783386358764761364989261322293887361558128521915542454126546182855197637753115352541578972298715522386683914777967729562229395936593272269661295295223113186683594678533511783187422193626234573849881185849626389774394351115527451886962844431947188429195191724662982411619815811652741733744864411666766133951954595344837179635668177845937578575117168875754181523584442699384167111317875138179567939174589917894597492816476662186746837552978671142265114426813792549412632291424594239391853358914643327549192165466628737614581458189732579814919468795493415762517372227862614224911844744711698557324454211123571327224554259626961741919243229688684838813912553397698937237114287944446722919198743189848428399356842626198635297851274879128322358195585284984366515428245928111112613638341345371\""
   ]
  },
  {
   "cell_type": "code",
   "execution_count": 20,
   "metadata": {},
   "outputs": [],
   "source": [
    "def catchpasum(catchpa):\n",
    "    cumsum = 0\n",
    "    for i in range(-1,len(catchpa)-1):\n",
    "        if catchpa[i] == catchpa[i+1]:\n",
    "            cumsum += int(catchpa[i])\n",
    "    \n",
    "    return cumsum"
   ]
  },
  {
   "cell_type": "code",
   "execution_count": 30,
   "metadata": {},
   "outputs": [],
   "source": [
    "def catchpasum_with_list_comp(catchpa):\n",
    "    return sum(int(catchpa[i]) for i in range(-1,len(catchpa)-1) if catchpa[i] == catchpa[i+1])"
   ]
  },
  {
   "cell_type": "code",
   "execution_count": 32,
   "metadata": {},
   "outputs": [
    {
     "name": "stdout",
     "output_type": "stream",
     "text": [
      "4.070724759820507\n",
      "4.011633658506383\n"
     ]
    }
   ],
   "source": [
    "import timeit\n",
    "\n",
    "print(\n",
    "    timeit.timeit(\n",
    "        \"catchpasum_with_list_comp(puzzleinput)\",\n",
    "        setup=\"from __main__ import puzzleinput, catchpasum_with_list_comp\",\n",
    "        number=10000))\n",
    "print(\n",
    "    timeit.timeit(\n",
    "        \"catchpasum(puzzleinput)\",\n",
    "        setup=\"from __main__ import puzzleinput, catchpasum\",\n",
    "        number=10000))"
   ]
  },
  {
   "cell_type": "code",
   "execution_count": 23,
   "metadata": {},
   "outputs": [
    {
     "name": "stderr",
     "output_type": "stream",
     "text": [
      "....\n",
      "----------------------------------------------------------------------\n",
      "Ran 4 tests in 0.005s\n",
      "\n",
      "OK\n"
     ]
    }
   ],
   "source": [
    "class TestCatchpaSum(unittest.TestCase):\n",
    "    def test1(self):\n",
    "        self.assertEqual(catchpasum(\"1122\"),3)\n",
    "    def test2(self):\n",
    "        self.assertEqual(catchpasum(\"1111\"),4)\n",
    "    def test3(self):\n",
    "        self.assertEqual(catchpasum(\"1234\"),0)\n",
    "    def test4(self):\n",
    "        self.assertEqual(catchpasum(\"91212129\"),9)\n",
    "\n",
    "suite = unittest.TestLoader().loadTestsFromModule(TestCatchpaSum())\n",
    "ret = unittest.TextTestRunner().run(suite)"
   ]
  },
  {
   "cell_type": "code",
   "execution_count": 5,
   "metadata": {},
   "outputs": [
    {
     "data": {
      "text/plain": [
       "1044"
      ]
     },
     "execution_count": 5,
     "metadata": {},
     "output_type": "execute_result"
    }
   ],
   "source": [
    "catchpasum(puzzleinput)"
   ]
  },
  {
   "cell_type": "code",
   "execution_count": 6,
   "metadata": {},
   "outputs": [],
   "source": [
    "def catchpasum2(catchpa):\n",
    "    sum = 0\n",
    "    count = len(catchpa)\n",
    "    for i in range(count):\n",
    "        if catchpa[i] == catchpa[int((i+count/2)%count)]:\n",
    "            sum += int(catchpa[i])\n",
    "    \n",
    "    return sum"
   ]
  },
  {
   "cell_type": "code",
   "execution_count": 7,
   "metadata": {},
   "outputs": [
    {
     "name": "stderr",
     "output_type": "stream",
     "text": [
      ".....\n",
      "----------------------------------------------------------------------\n",
      "Ran 5 tests in 0.008s\n",
      "\n",
      "OK\n"
     ]
    }
   ],
   "source": [
    "class TestCatchpaSum2(unittest.TestCase):\n",
    "    def test1(self):\n",
    "        self.assertEqual(catchpasum2(\"1212\"),6)\n",
    "    def test2(self):\n",
    "        self.assertEqual(catchpasum2(\"1221\"),0)\n",
    "    def test3(self):\n",
    "        self.assertEqual(catchpasum2(\"123425\"),4)\n",
    "    def test4(self):\n",
    "        self.assertEqual(catchpasum2(\"123123\"),12)\n",
    "    def test5(self):\n",
    "        self.assertEqual(catchpasum2(\"12131415\"),4)\n",
    "\n",
    "suite = unittest.TestLoader().loadTestsFromModule(TestCatchpaSum2())\n",
    "ret = unittest.TextTestRunner().run(suite)"
   ]
  },
  {
   "cell_type": "code",
   "execution_count": 8,
   "metadata": {},
   "outputs": [
    {
     "data": {
      "text/plain": [
       "1054"
      ]
     },
     "execution_count": 8,
     "metadata": {},
     "output_type": "execute_result"
    }
   ],
   "source": [
    "catchpasum2(puzzleinput)"
   ]
  },
  {
   "cell_type": "code",
   "execution_count": null,
   "metadata": {},
   "outputs": [],
   "source": []
  }
 ],
 "metadata": {
  "kernelspec": {
   "display_name": "Python 3",
   "language": "python",
   "name": "python3"
  },
  "language_info": {
   "codemirror_mode": {
    "name": "ipython",
    "version": 3
   },
   "file_extension": ".py",
   "mimetype": "text/x-python",
   "name": "python",
   "nbconvert_exporter": "python",
   "pygments_lexer": "ipython3",
   "version": "3.3.5"
  }
 },
 "nbformat": 4,
 "nbformat_minor": 2
}
