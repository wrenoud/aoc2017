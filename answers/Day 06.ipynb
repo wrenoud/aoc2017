{
 "cells": [
  {
   "cell_type": "code",
   "execution_count": 1,
   "metadata": {},
   "outputs": [],
   "source": [
    "import unittest\n",
    "from helpers import TestRunner"
   ]
  },
  {
   "cell_type": "code",
   "execution_count": 2,
   "metadata": {},
   "outputs": [],
   "source": [
    "puzzledata = [4,10,4,1,8,4,9,14,5,1,14,15,0,15,3,5]"
   ]
  },
  {
   "cell_type": "markdown",
   "metadata": {},
   "source": [
    "# Part 1"
   ]
  },
  {
   "cell_type": "code",
   "execution_count": 3,
   "metadata": {},
   "outputs": [
    {
     "data": {
      "text/plain": [
       "1"
      ]
     },
     "execution_count": 3,
     "metadata": {},
     "output_type": "execute_result"
    }
   ],
   "source": [
    "[[0,1],[1,2]].index([1,2])"
   ]
  },
  {
   "cell_type": "code",
   "execution_count": 4,
   "metadata": {},
   "outputs": [
    {
     "name": "stderr",
     "output_type": "stream",
     "text": [
      ".\n",
      "----------------------------------------------------------------------\n",
      "Ran 1 test in 0.005s\n",
      "\n",
      "OK\n"
     ]
    },
    {
     "data": {
      "text/plain": [
       "<unittest.runner.TextTestResult run=1 errors=0 failures=0>"
      ]
     },
     "execution_count": 4,
     "metadata": {},
     "output_type": "execute_result"
    }
   ],
   "source": [
    "def Answer1(data):\n",
    "    data = data[:]\n",
    "    states = []\n",
    "    iteration = 0\n",
    "    while data not in states:\n",
    "        states.append(data[:])\n",
    "        maxval = max(data)\n",
    "        position = data.index(maxval)\n",
    "        data[position] = 0\n",
    "        while maxval > 0:\n",
    "            for i in range(len(data)):\n",
    "                data[(position +1+ i) % len(data)] += 1\n",
    "                maxval -= 1\n",
    "                if maxval == 0:\n",
    "                    break\n",
    "        iteration += 1\n",
    "    return iteration\n",
    "            \n",
    "    \n",
    "\n",
    "class TestAnswer1(unittest.TestCase):\n",
    "    def test1(self): self.assertEqual(Answer1([0,2,7,0]),5)\n",
    "TestRunner(TestAnswer1)"
   ]
  },
  {
   "cell_type": "code",
   "execution_count": 5,
   "metadata": {},
   "outputs": [
    {
     "data": {
      "text/plain": [
       "12841"
      ]
     },
     "execution_count": 5,
     "metadata": {},
     "output_type": "execute_result"
    }
   ],
   "source": [
    "Answer1(puzzledata)"
   ]
  },
  {
   "cell_type": "markdown",
   "metadata": {},
   "source": [
    "# Part 2"
   ]
  },
  {
   "cell_type": "code",
   "execution_count": 6,
   "metadata": {},
   "outputs": [
    {
     "name": "stderr",
     "output_type": "stream",
     "text": [
      ".\n",
      "----------------------------------------------------------------------\n",
      "Ran 1 test in 0.001s\n",
      "\n",
      "OK\n"
     ]
    },
    {
     "data": {
      "text/plain": [
       "<unittest.runner.TextTestResult run=1 errors=0 failures=0>"
      ]
     },
     "execution_count": 6,
     "metadata": {},
     "output_type": "execute_result"
    }
   ],
   "source": [
    "def Answer2(data):\n",
    "    data = data[:]\n",
    "    states = []\n",
    "    iteration = 0\n",
    "    while data not in states:\n",
    "        states.append(data[:])\n",
    "        maxval = max(data)\n",
    "        position = data.index(maxval)\n",
    "        data[position] = 0\n",
    "        while maxval > 0:\n",
    "            for i in range(len(data)):\n",
    "                data[(position +1+ i) % len(data)] += 1\n",
    "                maxval -= 1\n",
    "                if maxval == 0:\n",
    "                    break\n",
    "        iteration += 1\n",
    "    return iteration - states.index(data)\n",
    "\n",
    "class TestAnswer2(unittest.TestCase):\n",
    "    def test1(self): self.assertEqual(Answer2([0,2,7,0]),4)\n",
    "TestRunner(TestAnswer2)"
   ]
  },
  {
   "cell_type": "code",
   "execution_count": 7,
   "metadata": {
    "scrolled": true
   },
   "outputs": [
    {
     "data": {
      "text/plain": [
       "8038"
      ]
     },
     "execution_count": 7,
     "metadata": {},
     "output_type": "execute_result"
    }
   ],
   "source": [
    "Answer2(puzzledata)"
   ]
  },
  {
   "cell_type": "code",
   "execution_count": null,
   "metadata": {},
   "outputs": [],
   "source": []
  }
 ],
 "metadata": {
  "kernelspec": {
   "display_name": "Python 3",
   "language": "python",
   "name": "python3"
  },
  "language_info": {
   "codemirror_mode": {
    "name": "ipython",
    "version": 3
   },
   "file_extension": ".py",
   "mimetype": "text/x-python",
   "name": "python",
   "nbconvert_exporter": "python",
   "pygments_lexer": "ipython3",
   "version": "3.6.3"
  }
 },
 "nbformat": 4,
 "nbformat_minor": 2
}
