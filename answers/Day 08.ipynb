{
 "cells": [
  {
   "cell_type": "code",
   "execution_count": 1,
   "metadata": {},
   "outputs": [],
   "source": [
    "import unittest\n",
    "from helpers import TestRunner"
   ]
  },
  {
   "cell_type": "code",
   "execution_count": 2,
   "metadata": {},
   "outputs": [],
   "source": [
    "with open(\"../data/day_08.txt\",\"r\") as f:\n",
    "    puzzledata = f.read()\n",
    "\n",
    "def formatdata(data):\n",
    "    return (line.split() for line in data.strip().split('\\n'))"
   ]
  },
  {
   "cell_type": "markdown",
   "metadata": {},
   "source": [
    "# Part 1 and 2"
   ]
  },
  {
   "cell_type": "code",
   "execution_count": 3,
   "metadata": {},
   "outputs": [],
   "source": [
    "def Answer1(data):\n",
    "    registers = {}\n",
    "    maxregister = 0\n",
    "    for target, op, op_value, _, source, condition, test in data:\n",
    "        if target not in registers:\n",
    "            registers[target] = 0\n",
    "        if source not in registers:\n",
    "            registers[source] = 0\n",
    "        \n",
    "        test = int(test)\n",
    "        op_value = int(op_value)\n",
    "        \n",
    "        execute_op = False\n",
    "        if condition == '>':\n",
    "            execute_op = registers[source] > test\n",
    "        elif condition == '<':\n",
    "            execute_op = registers[source] < test\n",
    "        elif condition == '>=':\n",
    "            execute_op = registers[source] >= test\n",
    "        elif condition == '<=':\n",
    "            execute_op = registers[source] <= test\n",
    "        elif condition == '==':\n",
    "            execute_op = registers[source] == test\n",
    "        elif condition == '!=':\n",
    "            execute_op = registers[source] != test\n",
    "        \n",
    "        if execute_op:\n",
    "            if op == \"inc\":\n",
    "                registers[target] += op_value\n",
    "            else:\n",
    "                registers[target] -= op_value\n",
    "        \n",
    "        maxregister = max(maxregister, max(registers.values()))\n",
    "    return (max(registers.values()), maxregister)"
   ]
  },
  {
   "cell_type": "code",
   "execution_count": 4,
   "metadata": {},
   "outputs": [
    {
     "name": "stderr",
     "output_type": "stream",
     "text": [
      ".\n",
      "----------------------------------------------------------------------\n",
      "Ran 1 test in 0.006s\n",
      "\n",
      "OK\n"
     ]
    },
    {
     "data": {
      "text/plain": [
       "<unittest.runner.TextTestResult run=1 errors=0 failures=0>"
      ]
     },
     "execution_count": 4,
     "metadata": {},
     "output_type": "execute_result"
    }
   ],
   "source": [
    "class TestAnswer1(unittest.TestCase):\n",
    "    def test1(self): self.assertEqual(Answer1(formatdata(\"\"\"b inc 5 if a > 1\n",
    "a inc 1 if b < 5\n",
    "c dec -10 if a >= 1\n",
    "c inc -20 if c == 10\n",
    "\"\"\")),(1,10))\n",
    "\n",
    "TestRunner(TestAnswer1)"
   ]
  },
  {
   "cell_type": "code",
   "execution_count": 5,
   "metadata": {},
   "outputs": [
    {
     "data": {
      "text/plain": [
       "(3880, 5035)"
      ]
     },
     "execution_count": 5,
     "metadata": {},
     "output_type": "execute_result"
    }
   ],
   "source": [
    "Answer1(formatdata(puzzledata))"
   ]
  },
  {
   "cell_type": "code",
   "execution_count": null,
   "metadata": {},
   "outputs": [],
   "source": []
  }
 ],
 "metadata": {
  "kernelspec": {
   "display_name": "Python 3",
   "language": "python",
   "name": "python3"
  },
  "language_info": {
   "codemirror_mode": {
    "name": "ipython",
    "version": 3
   },
   "file_extension": ".py",
   "mimetype": "text/x-python",
   "name": "python",
   "nbconvert_exporter": "python",
   "pygments_lexer": "ipython3",
   "version": "3.6.3"
  }
 },
 "nbformat": 4,
 "nbformat_minor": 2
}
