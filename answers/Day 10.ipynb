{
 "cells": [
  {
   "cell_type": "code",
   "execution_count": 1,
   "metadata": {},
   "outputs": [],
   "source": [
    "import unittest\n",
    "from helpers import TestRunner"
   ]
  },
  {
   "cell_type": "code",
   "execution_count": 2,
   "metadata": {},
   "outputs": [],
   "source": [
    "puzzledata = \"\"\"70,66,255,2,48,0,54,48,80,141,244,254,160,108,1,41\"\"\""
   ]
  },
  {
   "cell_type": "markdown",
   "metadata": {},
   "source": [
    "# Part 1"
   ]
  },
  {
   "cell_type": "code",
   "execution_count": 3,
   "metadata": {},
   "outputs": [
    {
     "name": "stderr",
     "output_type": "stream",
     "text": [
      ".\n",
      "----------------------------------------------------------------------\n",
      "Ran 1 test in 0.006s\n",
      "\n",
      "OK\n"
     ]
    },
    {
     "data": {
      "text/plain": [
       "<unittest.runner.TextTestResult run=1 errors=0 failures=0>"
      ]
     },
     "execution_count": 3,
     "metadata": {},
     "output_type": "execute_result"
    }
   ],
   "source": [
    "def Answer1(data,length=256):\n",
    "    registers = list(range(length))\n",
    "    position = 0\n",
    "    skip = 0\n",
    "    for twist in data:\n",
    "        temp = registers[:]\n",
    "        for i in range(twist):\n",
    "            source = (position + i) % length\n",
    "            dest = (position + twist - i - 1) % length\n",
    "            temp[dest] = registers[source]\n",
    "        registers = temp\n",
    "        position = (position + twist + skip) % length\n",
    "        skip += 1\n",
    "    return registers[0] * registers[1]\n",
    "\n",
    "class TestAnswer1(unittest.TestCase):\n",
    "    def test1(self): self.assertEqual(Answer1([3, 4, 1, 5],5),12)\n",
    "    #def test2(self): self.assertEqual(Answer1(0),0)\n",
    "    #def test3(self): self.assertEqual(Answer1(0),0)\n",
    "    #def test4(self): self.assertEqual(Answer1(0),0)\n",
    "TestRunner(TestAnswer1)"
   ]
  },
  {
   "cell_type": "code",
   "execution_count": 4,
   "metadata": {},
   "outputs": [
    {
     "data": {
      "text/plain": [
       "7888"
      ]
     },
     "execution_count": 4,
     "metadata": {},
     "output_type": "execute_result"
    }
   ],
   "source": [
    "Answer1(list(int(v) for v in puzzledata.split(',')))"
   ]
  },
  {
   "cell_type": "markdown",
   "metadata": {},
   "source": [
    "# Part 2"
   ]
  },
  {
   "cell_type": "code",
   "execution_count": 5,
   "metadata": {},
   "outputs": [],
   "source": [
    "def Answer2(data,length=256):\n",
    "    registers = list(range(length))\n",
    "    position = 0\n",
    "    skip = 0\n",
    "    for r in range(64):\n",
    "        for twist in data:\n",
    "            temp = registers[:]\n",
    "            for i in range(twist):\n",
    "                source = (position + i) % length\n",
    "                dest = (position + twist - i - 1) % length\n",
    "                temp[dest] = registers[source]\n",
    "            registers = temp\n",
    "            position = (position + twist + skip) % length\n",
    "            skip += 1\n",
    "    vals = []\n",
    "    for i in range(16):\n",
    "        xorval = registers[i*16]\n",
    "        for j in range(1,16):\n",
    "            xorval ^= registers[i*16+j]\n",
    "        vals.append(xorval)\n",
    "    return vals"
   ]
  },
  {
   "cell_type": "code",
   "execution_count": 6,
   "metadata": {},
   "outputs": [
    {
     "name": "stdout",
     "output_type": "stream",
     "text": [
      "decdf7d377879877173b7f2fb131cf1b\n"
     ]
    }
   ],
   "source": [
    "print(\"\".join(hex(v)[2:] for v in Answer2(list(ord(v) for v in puzzledata) + [17, 31, 73, 47, 23])))"
   ]
  },
  {
   "cell_type": "code",
   "execution_count": null,
   "metadata": {},
   "outputs": [],
   "source": []
  }
 ],
 "metadata": {
  "kernelspec": {
   "display_name": "Python 3",
   "language": "python",
   "name": "python3"
  },
  "language_info": {
   "codemirror_mode": {
    "name": "ipython",
    "version": 3
   },
   "file_extension": ".py",
   "mimetype": "text/x-python",
   "name": "python",
   "nbconvert_exporter": "python",
   "pygments_lexer": "ipython3",
   "version": "3.6.3"
  }
 },
 "nbformat": 4,
 "nbformat_minor": 2
}
