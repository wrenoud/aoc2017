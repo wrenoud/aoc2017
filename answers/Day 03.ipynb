{
 "cells": [
  {
   "cell_type": "code",
   "execution_count": 10,
   "metadata": {},
   "outputs": [],
   "source": [
    "import unittest\n",
    "from helpers import TestRunner\n",
    "from math import factorial"
   ]
  },
  {
   "cell_type": "code",
   "execution_count": 11,
   "metadata": {},
   "outputs": [],
   "source": [
    "puzzledata=277678"
   ]
  },
  {
   "cell_type": "markdown",
   "metadata": {},
   "source": [
    "# Part 1"
   ]
  },
  {
   "cell_type": "code",
   "execution_count": 73,
   "metadata": {},
   "outputs": [],
   "source": [
    "def layerinfo(layer):\n",
    "    start = 2 + sum(range(layer))*8 # starting number the spiral layer\n",
    "    dim = 2 * layer + 1 # side dimension of the spiral layer box\n",
    "    return (\n",
    "        (start - 1, start + (dim - 1) - 1), # cheat here making the colum full length to compute distance\n",
    "        (start +   (dim - 1) - 1, start + 2*(dim - 1) - 1),\n",
    "        (start + 2*(dim - 1) - 1, start + 3*(dim - 1) - 1),\n",
    "        (start + 3*(dim - 1) - 1, start + 4*(dim - 1) - 1),\n",
    "    )\n",
    "        \n",
    "\n",
    "def Answer1(data):\n",
    "    inter = (data-1)/8 # each layer circumference is a multiple of 8\n",
    "    layer = 1\n",
    "    while inter > 0:\n",
    "        inter -= layer\n",
    "        layer += 1\n",
    "    layer -= 1\n",
    "    sides = layerinfo(layer)\n",
    "    for start, end in sides:\n",
    "        if data >= start and data <= end:\n",
    "            break\n",
    "    return abs(data - (end+start)/2) + layer\n",
    "\n"
   ]
  },
  {
   "cell_type": "code",
   "execution_count": 74,
   "metadata": {},
   "outputs": [
    {
     "name": "stderr",
     "output_type": "stream",
     "text": [
      "....\n",
      "----------------------------------------------------------------------\n",
      "Ran 4 tests in 0.006s\n",
      "\n",
      "OK\n"
     ]
    },
    {
     "data": {
      "text/plain": [
       "<unittest.runner.TextTestResult run=4 errors=0 failures=0>"
      ]
     },
     "execution_count": 74,
     "metadata": {},
     "output_type": "execute_result"
    }
   ],
   "source": [
    "class TestAnswer(unittest.TestCase):\n",
    "    def test1(self): self.assertEqual(Answer1(1),0)\n",
    "    def test2(self): self.assertEqual(Answer1(12),3)\n",
    "    def test3(self): self.assertEqual(Answer1(23),2)\n",
    "    def test4(self): self.assertEqual(Answer1(1024),31)\n",
    "TestRunner(TestAnswer)"
   ]
  },
  {
   "cell_type": "code",
   "execution_count": 66,
   "metadata": {},
   "outputs": [
    {
     "name": "stdout",
     "output_type": "stream",
     "text": [
      "277678 275625 276151\n",
      "277678 276151 276677\n",
      "277678 276677 277203\n",
      "277678 277203 277729\n"
     ]
    },
    {
     "data": {
      "text/plain": [
       "475.0"
      ]
     },
     "execution_count": 66,
     "metadata": {},
     "output_type": "execute_result"
    }
   ],
   "source": [
    "Answer(puzzledata)"
   ]
  },
  {
   "cell_type": "markdown",
   "metadata": {},
   "source": [
    "# Part 2\n",
    "\n",
    "I used a spreadsheet:\n",
    "\n",
    "| 4 | 3 | 2 | 1 | 0 | 1 | 2 | 3 | 4 |\n",
    "|--------|--------|--------|--------|--------|--------|--------|--------|--------|\n",
    "| 369601 | 363010 | 349975 | 330785 | 312453 | 295229 | 279138 | 266330 | 130654 |\n",
    "| 752688 | 6591 | 6444 | 6155 | 5733 | 5336 | 5022 | 2450 | 128204 |\n",
    "| 787032 | 13486 | 147 | 142 | 133 | 122 | 59 | 2391 | 123363 |\n",
    "| 830037 | 14267 | 304 | 5 | 4 | 2 | 57 | 2275 | 116247 |\n",
    "| 875851 | 15252 | 330 | 10 | 1 | 1 | 54 | 2105 | 109476 |\n",
    "| 924406 | 16295 | 351 | 11 | 23 | 25 | 26 | 1968 | 103128 |\n",
    "| 975079 | 17008 | 362 | 747 | 806 | 880 | 931 | 957 | 98098 |\n",
    "| 1009457 | 17370 | 35487 | 37402 | 39835 | 42452 | 45220 | 47108 | 48065 |\n",
    "| 1026827 | 2089141 | 2179400 | 2292124 | 2411813 | 2539320 | 2674100 | 2814493 | 2909666 |\n"
   ]
  },
  {
   "cell_type": "markdown",
   "metadata": {},
   "source": [
    "Which apparently is already a sequence on the internet... https://oeis.org/A141481"
   ]
  },
  {
   "cell_type": "code",
   "execution_count": null,
   "metadata": {},
   "outputs": [],
   "source": []
  }
 ],
 "metadata": {
  "kernelspec": {
   "display_name": "Python 3",
   "language": "python",
   "name": "python3"
  },
  "language_info": {
   "codemirror_mode": {
    "name": "ipython",
    "version": 3
   },
   "file_extension": ".py",
   "mimetype": "text/x-python",
   "name": "python",
   "nbconvert_exporter": "python",
   "pygments_lexer": "ipython3",
   "version": "3.3.5"
  }
 },
 "nbformat": 4,
 "nbformat_minor": 2
}
