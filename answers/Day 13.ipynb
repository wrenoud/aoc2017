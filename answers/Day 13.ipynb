{
 "cells": [
  {
   "cell_type": "code",
   "execution_count": 1,
   "metadata": {},
   "outputs": [],
   "source": [
    "import unittest\n",
    "from helpers import TestRunner"
   ]
  },
  {
   "cell_type": "code",
   "execution_count": 2,
   "metadata": {},
   "outputs": [],
   "source": [
    "def formatdata(data):\n",
    "    return list(v.split(\": \") for v in data.strip().split('\\n'))"
   ]
  },
  {
   "cell_type": "code",
   "execution_count": 3,
   "metadata": {},
   "outputs": [],
   "source": [
    "with open('../data/day_13.txt','r') as f:\n",
    "    puzzledata = formatdata(f.read())"
   ]
  },
  {
   "cell_type": "markdown",
   "metadata": {},
   "source": [
    "# Part 1"
   ]
  },
  {
   "cell_type": "code",
   "execution_count": 4,
   "metadata": {},
   "outputs": [
    {
     "name": "stderr",
     "output_type": "stream",
     "text": [
      ".\n",
      "----------------------------------------------------------------------\n",
      "Ran 1 test in 0.005s\n",
      "\n",
      "OK\n"
     ]
    },
    {
     "data": {
      "text/plain": [
       "<unittest.runner.TextTestResult run=1 errors=0 failures=0>"
      ]
     },
     "execution_count": 4,
     "metadata": {},
     "output_type": "execute_result"
    }
   ],
   "source": [
    "def Answer1(data):\n",
    "    layers = dict((int(depth), {'range':int(r),'pos':0,'sweep':-1}) for depth, r in data)\n",
    "    severity = 0\n",
    "    for pos in range(max(layers.keys())+1):\n",
    "        if pos in layers:\n",
    "            if layers[pos]['pos'] == 0:\n",
    "                severity += pos * layers[pos]['range']\n",
    "        for k in layers.keys():\n",
    "            if layers[k]['pos'] == 0:\n",
    "                layers[k]['sweep'] = 1\n",
    "            elif layers[k]['pos'] + 1 == layers[k]['range']:\n",
    "                layers[k]['sweep'] = -1\n",
    "            layers[k]['pos'] += layers[k]['sweep']\n",
    "    return severity\n",
    "    \n",
    "class TestAnswer1(unittest.TestCase):\n",
    "    def test1(self): self.assertEqual(Answer1(formatdata(\"\"\"0: 3\n",
    "1: 2\n",
    "4: 4\n",
    "6: 4\"\"\")),24)\n",
    "TestRunner(TestAnswer1)"
   ]
  },
  {
   "cell_type": "code",
   "execution_count": 5,
   "metadata": {},
   "outputs": [
    {
     "name": "stdout",
     "output_type": "stream",
     "text": [
      "1928\n"
     ]
    }
   ],
   "source": [
    "print(Answer1(puzzledata))"
   ]
  },
  {
   "cell_type": "markdown",
   "metadata": {},
   "source": [
    "# Part 2"
   ]
  },
  {
   "cell_type": "code",
   "execution_count": 6,
   "metadata": {},
   "outputs": [
    {
     "name": "stderr",
     "output_type": "stream",
     "text": [
      ".\n",
      "----------------------------------------------------------------------\n",
      "Ran 1 test in 0.001s\n",
      "\n",
      "OK\n"
     ]
    },
    {
     "data": {
      "text/plain": [
       "<unittest.runner.TextTestResult run=1 errors=0 failures=0>"
      ]
     },
     "execution_count": 6,
     "metadata": {},
     "output_type": "execute_result"
    }
   ],
   "source": [
    "def Answer2(data):\n",
    "    wait = -1\n",
    "    while True:\n",
    "        wait += 1\n",
    "        detected = False\n",
    "        for depth, rng in data:\n",
    "            if (wait + int(depth)) % (int(rng)*2-2) == 0:\n",
    "                detected = True\n",
    "                break\n",
    "        if not detected:\n",
    "            break\n",
    "    return wait\n",
    "\n",
    "class TestAnswer2(unittest.TestCase):\n",
    "    def test1(self): self.assertEqual(Answer2(formatdata(\"\"\"0: 3\n",
    "1: 2\n",
    "4: 4\n",
    "6: 4\"\"\")),10)\n",
    "    \n",
    "TestRunner(TestAnswer2)"
   ]
  },
  {
   "cell_type": "code",
   "execution_count": 7,
   "metadata": {},
   "outputs": [
    {
     "name": "stdout",
     "output_type": "stream",
     "text": [
      "3830344\n"
     ]
    }
   ],
   "source": [
    "print(Answer2(puzzledata))"
   ]
  },
  {
   "cell_type": "code",
   "execution_count": null,
   "metadata": {},
   "outputs": [],
   "source": []
  }
 ],
 "metadata": {
  "kernelspec": {
   "display_name": "Python 3",
   "language": "python",
   "name": "python3"
  },
  "language_info": {
   "codemirror_mode": {
    "name": "ipython",
    "version": 3
   },
   "file_extension": ".py",
   "mimetype": "text/x-python",
   "name": "python",
   "nbconvert_exporter": "python",
   "pygments_lexer": "ipython3",
   "version": "3.6.3"
  }
 },
 "nbformat": 4,
 "nbformat_minor": 2
}
