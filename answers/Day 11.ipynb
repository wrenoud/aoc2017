{
 "cells": [
  {
   "cell_type": "code",
   "execution_count": 1,
   "metadata": {},
   "outputs": [],
   "source": [
    "import unittest\n",
    "from helpers import TestRunner"
   ]
  },
  {
   "cell_type": "code",
   "execution_count": 2,
   "metadata": {},
   "outputs": [],
   "source": [
    "with open('../data/day_11.txt') as f:\n",
    "    puzzledata = f.read().strip().split(',')"
   ]
  },
  {
   "cell_type": "markdown",
   "metadata": {},
   "source": [
    "# Part 1"
   ]
  },
  {
   "cell_type": "code",
   "execution_count": 3,
   "metadata": {},
   "outputs": [
    {
     "name": "stderr",
     "output_type": "stream",
     "text": [
      "....\n",
      "----------------------------------------------------------------------\n",
      "Ran 4 tests in 0.008s\n",
      "\n",
      "OK\n"
     ]
    },
    {
     "data": {
      "text/plain": [
       "<unittest.runner.TextTestResult run=4 errors=0 failures=0>"
      ]
     },
     "execution_count": 3,
     "metadata": {},
     "output_type": "execute_result"
    }
   ],
   "source": [
    "class hexwalker(object):\n",
    "    def __init__(self):\n",
    "        self.nwse = 0\n",
    "        self.swne = 0\n",
    "    \n",
    "    def step(self, direction):\n",
    "        if   direction == \"n\":  self.nwse += 1; self.swne += 1\n",
    "        elif direction == \"ne\": self.nwse += 1\n",
    "        elif direction == \"se\":                 self.swne -= 1;\n",
    "        elif direction == \"s\":  self.nwse -= 1; self.swne -= 1\n",
    "        elif direction == \"sw\": self.nwse -= 1\n",
    "        elif direction == \"nw\":                 self.swne += 1;\n",
    "\n",
    "    def dist(self):\n",
    "        if self.nwse == 0 or self.swne == 0:\n",
    "            return abs(self.nwse + self.swne)\n",
    "        elif self.nwse == self.swne:\n",
    "            return abs(self.nwse)\n",
    "        \n",
    "        elif self.nwse > 0 and self.swne < 0: return abs(self.nwse) + abs(self.swne)\n",
    "        elif self.nwse < 0 and self.swne > 0: return abs(self.nwse) + abs(self.swne)\n",
    "\n",
    "        elif self.nwse > self.swne: return abs(self.swne)\n",
    "        elif self.nwse < self.swne: return abs(self.nwse)\n",
    "        \n",
    "def Answer1(data):\n",
    "    walker = hexwalker()\n",
    "    for step in data:\n",
    "        walker.step(step)\n",
    "   \n",
    "    return walker.dist()\n",
    "        \n",
    "class TestAnswer1(unittest.TestCase):\n",
    "    def test1(self): self.assertEqual(Answer1(\"ne,ne,ne\".split(',')),3)\n",
    "    def test2(self): self.assertEqual(Answer1(\"ne,ne,sw,sw\".split(',')),0)\n",
    "    def test3(self): self.assertEqual(Answer1(\"ne,ne,s,s\".split(',')),2)\n",
    "    def test4(self): self.assertEqual(Answer1(\"se,sw,se,sw,sw\".split(',')),3)\n",
    "TestRunner(TestAnswer1)"
   ]
  },
  {
   "cell_type": "code",
   "execution_count": 4,
   "metadata": {},
   "outputs": [
    {
     "data": {
      "text/plain": [
       "818"
      ]
     },
     "execution_count": 4,
     "metadata": {},
     "output_type": "execute_result"
    }
   ],
   "source": [
    "Answer1(puzzledata)"
   ]
  },
  {
   "cell_type": "markdown",
   "metadata": {},
   "source": [
    "# Part 2"
   ]
  },
  {
   "cell_type": "code",
   "execution_count": 5,
   "metadata": {},
   "outputs": [],
   "source": [
    "def Answer2(data):\n",
    "    walker = hexwalker()\n",
    "    maxdist = 0\n",
    "    for step in data:\n",
    "        walker.step(step)\n",
    "        maxdist = max(maxdist, walker.dist())\n",
    "   \n",
    "    return maxdist\n"
   ]
  },
  {
   "cell_type": "code",
   "execution_count": 6,
   "metadata": {},
   "outputs": [
    {
     "data": {
      "text/plain": [
       "1596"
      ]
     },
     "execution_count": 6,
     "metadata": {},
     "output_type": "execute_result"
    }
   ],
   "source": [
    "Answer2(puzzledata)"
   ]
  },
  {
   "cell_type": "code",
   "execution_count": null,
   "metadata": {},
   "outputs": [],
   "source": []
  }
 ],
 "metadata": {
  "kernelspec": {
   "display_name": "Python 3",
   "language": "python",
   "name": "python3"
  },
  "language_info": {
   "codemirror_mode": {
    "name": "ipython",
    "version": 3
   },
   "file_extension": ".py",
   "mimetype": "text/x-python",
   "name": "python",
   "nbconvert_exporter": "python",
   "pygments_lexer": "ipython3",
   "version": "3.6.3"
  }
 },
 "nbformat": 4,
 "nbformat_minor": 2
}
