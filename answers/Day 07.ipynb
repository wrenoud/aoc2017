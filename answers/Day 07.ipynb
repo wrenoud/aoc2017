{
 "cells": [
  {
   "cell_type": "code",
   "execution_count": 1,
   "metadata": {},
   "outputs": [],
   "source": [
    "import unittest\n",
    "from helpers import TestRunner"
   ]
  },
  {
   "cell_type": "code",
   "execution_count": 2,
   "metadata": {},
   "outputs": [],
   "source": [
    "with open('..\\\\data\\\\day_07.txt','r') as f:\n",
    "    puzzledata = list(l.strip().split(' -> ') for l in f.readlines())"
   ]
  },
  {
   "cell_type": "code",
   "execution_count": 3,
   "metadata": {},
   "outputs": [],
   "source": [
    "def makemap(data):\n",
    "    programs = {}\n",
    "    for base in data:\n",
    "        children = []\n",
    "        if len(base) > 1:\n",
    "            children = base[1].split(', ')\n",
    "        program,weight = base[0].split()\n",
    "        weight = weight[1:-1]\n",
    "        #print(program, weight)\n",
    "        programs[program]={'weight':weight, 'children':children}\n",
    "    return programs"
   ]
  },
  {
   "cell_type": "markdown",
   "metadata": {},
   "source": [
    "# Part 1"
   ]
  },
  {
   "cell_type": "code",
   "execution_count": 4,
   "metadata": {},
   "outputs": [
    {
     "name": "stderr",
     "output_type": "stream",
     "text": [
      ".\n",
      "----------------------------------------------------------------------\n",
      "Ran 1 test in 0.006s\n",
      "\n",
      "OK\n"
     ]
    },
    {
     "data": {
      "text/plain": [
       "<unittest.runner.TextTestResult run=1 errors=0 failures=0>"
      ]
     },
     "execution_count": 4,
     "metadata": {},
     "output_type": "execute_result"
    }
   ],
   "source": [
    "def Answer1(data):\n",
    "    programs = makemap(data)\n",
    "\n",
    "    for program,node in programs.items():\n",
    "        if len(node['children']) > 0:\n",
    "            found=False\n",
    "            for subprogram,subnode in programs.items():\n",
    "                if len(subnode['children']) > 0:\n",
    "                    if program in subnode['children']:\n",
    "                        found = True\n",
    "            if not found:\n",
    "                return program\n",
    "\n",
    "class TestAnswer1(unittest.TestCase):\n",
    "    def test1(self): self.assertEqual(Answer1(list(l.strip().split(' -> ') for l in \"\"\"pbga (66)\n",
    "xhth (57)\n",
    "ebii (61)\n",
    "havc (66)\n",
    "ktlj (57)\n",
    "fwft (72) -> ktlj, cntj, xhth\n",
    "qoyq (66)\n",
    "padx (45) -> pbga, havc, qoyq\n",
    "tknk (41) -> ugml, padx, fwft\n",
    "jptl (61)\n",
    "ugml (68) -> gyxo, ebii, jptl\n",
    "gyxo (61)\n",
    "cntj (57)\"\"\".split(\"\\n\"))),\"tknk\")\n",
    "\n",
    "TestRunner(TestAnswer1)"
   ]
  },
  {
   "cell_type": "code",
   "execution_count": 5,
   "metadata": {},
   "outputs": [
    {
     "name": "stdout",
     "output_type": "stream",
     "text": [
      "airlri\n"
     ]
    }
   ],
   "source": [
    "print(Answer1(puzzledata))"
   ]
  },
  {
   "cell_type": "markdown",
   "metadata": {},
   "source": [
    "# Part 2"
   ]
  },
  {
   "cell_type": "code",
   "execution_count": 6,
   "metadata": {},
   "outputs": [],
   "source": [
    "def Answer2(data, lowest):\n",
    "    programs = makemap(data)\n",
    "    \n",
    "    def getweight(program):\n",
    "        children = programs[program]['children']\n",
    "        weights = []\n",
    "        for child in children:\n",
    "            weights.append(getweight(child))\n",
    "        if not all(weights[0] == weight for weight in weights):\n",
    "            print(program,list(zip(children, weights)))\n",
    "        return int(programs[program]['weight']) + sum(weights)\n",
    "    \n",
    "    getweight(lowest)\n",
    "        \n",
    "\n",
    "class TestAnswer2(unittest.TestCase):\n",
    "    def test1(self): self.assertEqual(Answer2(list(l.strip().split(' -> ') for l in \"\"\"pbga (66)\n",
    "xhth (57)\n",
    "ebii (61)\n",
    "havc (66)\n",
    "ktlj (57)\n",
    "fwft (72) -> ktlj, cntj, xhth\n",
    "qoyq (66)\n",
    "padx (45) -> pbga, havc, qoyq\n",
    "tknk (41) -> ugml, padx, fwft\n",
    "jptl (61)\n",
    "ugml (68) -> gyxo, ebii, jptl\n",
    "gyxo (61)\n",
    "cntj (57)\"\"\".split(\"\\n\")),'tknk'),0)\n",
    "#TestRunner(TestAnswer2)"
   ]
  },
  {
   "cell_type": "code",
   "execution_count": 7,
   "metadata": {},
   "outputs": [
    {
     "name": "stdout",
     "output_type": "stream",
     "text": [
      "tylelk [('drfzng', 1614), ('yhonqw', 1614), ('wsyiyen', 1614), ('dqwocyn', 1623), ('qqnroz', 1614)]\n",
      "pidgnp [('ehlwoxs', 8094), ('hbldvzk', 8094), ('ezwzp', 8094), ('tylelk', 8103), ('jkxutle', 8094), ('kkflx', 8094), ('oucqw', 8094)]\n",
      "airlri [('pidgnp', 152523), ('lljifba', 152514), ('gmewl', 152514), ('tbedct', 152514), ('ryvidhy', 152514), ('rdytzgp', 152514)]\n"
     ]
    }
   ],
   "source": [
    "Answer2(puzzledata, 'airlri')"
   ]
  },
  {
   "cell_type": "code",
   "execution_count": 8,
   "metadata": {},
   "outputs": [
    {
     "data": {
      "text/plain": [
       "1206"
      ]
     },
     "execution_count": 8,
     "metadata": {},
     "output_type": "execute_result"
    }
   ],
   "source": [
    "programs = makemap(puzzledata)\n",
    "int(programs[\"dqwocyn\"]['weight']) - (1623 - 1614)"
   ]
  },
  {
   "cell_type": "code",
   "execution_count": null,
   "metadata": {},
   "outputs": [],
   "source": []
  }
 ],
 "metadata": {
  "kernelspec": {
   "display_name": "Python 3",
   "language": "python",
   "name": "python3"
  },
  "language_info": {
   "codemirror_mode": {
    "name": "ipython",
    "version": 3
   },
   "file_extension": ".py",
   "mimetype": "text/x-python",
   "name": "python",
   "nbconvert_exporter": "python",
   "pygments_lexer": "ipython3",
   "version": "3.6.3"
  }
 },
 "nbformat": 4,
 "nbformat_minor": 2
}
