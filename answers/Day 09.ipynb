{
 "cells": [
  {
   "cell_type": "code",
   "execution_count": 3,
   "metadata": {},
   "outputs": [],
   "source": [
    "import unittest\n",
    "from helpers import TestRunner"
   ]
  },
  {
   "cell_type": "code",
   "execution_count": 4,
   "metadata": {},
   "outputs": [],
   "source": [
    "with open('../data/day_09.txt') as f:\n",
    "    puzzledata = f.read()"
   ]
  },
  {
   "cell_type": "markdown",
   "metadata": {},
   "source": [
    "# Part 1"
   ]
  },
  {
   "cell_type": "code",
   "execution_count": 10,
   "metadata": {},
   "outputs": [
    {
     "name": "stderr",
     "output_type": "stream",
     "text": [
      "FFFF\n",
      "======================================================================\n",
      "FAIL: test1 (__main__.TestAnswer1)\n",
      "----------------------------------------------------------------------\n",
      "Traceback (most recent call last):\n",
      "  File \"<ipython-input-10-569367f6da79>\", line 32, in test1\n",
      "    def test1(self): self.assertEqual(Answer1(\"{{{}}}\"),6)\n",
      "AssertionError: (6, 0) != 6\n",
      "\n",
      "======================================================================\n",
      "FAIL: test2 (__main__.TestAnswer1)\n",
      "----------------------------------------------------------------------\n",
      "Traceback (most recent call last):\n",
      "  File \"<ipython-input-10-569367f6da79>\", line 33, in test2\n",
      "    def test2(self): self.assertEqual(Answer1(\"{{{},{},{{}}}}\"),16)\n",
      "AssertionError: (16, 0) != 16\n",
      "\n",
      "======================================================================\n",
      "FAIL: test3 (__main__.TestAnswer1)\n",
      "----------------------------------------------------------------------\n",
      "Traceback (most recent call last):\n",
      "  File \"<ipython-input-10-569367f6da79>\", line 34, in test3\n",
      "    def test3(self): self.assertEqual(Answer1(\"{{<!!>},{<!!>},{<!!>},{<!!>}}\"),9)\n",
      "AssertionError: (9, 0) != 9\n",
      "\n",
      "======================================================================\n",
      "FAIL: test4 (__main__.TestAnswer1)\n",
      "----------------------------------------------------------------------\n",
      "Traceback (most recent call last):\n",
      "  File \"<ipython-input-10-569367f6da79>\", line 35, in test4\n",
      "    def test4(self): self.assertEqual(Answer1(\"{{<a!>},{<a!>},{<a!>},{<ab>}}\"),3)\n",
      "AssertionError: (3, 17) != 3\n",
      "\n",
      "----------------------------------------------------------------------\n",
      "Ran 4 tests in 0.005s\n",
      "\n",
      "FAILED (failures=4)\n"
     ]
    },
    {
     "data": {
      "text/plain": [
       "<unittest.runner.TextTestResult run=4 errors=0 failures=4>"
      ]
     },
     "execution_count": 10,
     "metadata": {},
     "output_type": "execute_result"
    }
   ],
   "source": [
    "def Answer1(data):\n",
    "    depth = 0\n",
    "    score = 0\n",
    "    garbage = False\n",
    "    garbage_count = 0\n",
    "    i = 0\n",
    "    while i < len(data):\n",
    "        c = data[i]\n",
    "        if garbage:\n",
    "            if c == \"!\":\n",
    "                i += 1\n",
    "            elif c == \">\":\n",
    "                garbage = False\n",
    "            else:\n",
    "                garbage_count += 1\n",
    "            i += 1\n",
    "            continue\n",
    "        elif c == \"<\":\n",
    "            garbage = True\n",
    "            i += 1\n",
    "            continue\n",
    "        elif c == \"{\":\n",
    "            depth += 1\n",
    "        elif c == \"}\":\n",
    "            depth -= 1\n",
    "            score += depth + 1\n",
    "        i += 1\n",
    "    return score,garbage_count\n",
    "        \n",
    "\n",
    "class TestAnswer1(unittest.TestCase):\n",
    "    def test1(self): self.assertEqual(Answer1(\"{{{}}}\"),(6,0))\n",
    "    def test2(self): self.assertEqual(Answer1(\"{{{},{},{{}}}}\"),(16,0))\n",
    "    def test3(self): self.assertEqual(Answer1(\"{{<!!>},{<!!>},{<!!>},{<!!>}}\"),(9,0))\n",
    "    def test4(self): self.assertEqual(Answer1(\"{{<a!>},{<a!>},{<a!>},{<ab>}}\"),3)\n",
    "TestRunner(TestAnswer1)"
   ]
  },
  {
   "cell_type": "code",
   "execution_count": 9,
   "metadata": {},
   "outputs": [
    {
     "data": {
      "text/plain": [
       "10800"
      ]
     },
     "execution_count": 9,
     "metadata": {},
     "output_type": "execute_result"
    }
   ],
   "source": [
    "Answer1(puzzledata)"
   ]
  },
  {
   "cell_type": "markdown",
   "metadata": {},
   "source": [
    "# Part 2"
   ]
  },
  {
   "cell_type": "code",
   "execution_count": null,
   "metadata": {},
   "outputs": [],
   "source": [
    "def Answer2(data):\n",
    "    return 0\n",
    "\n",
    "class TestAnswer2(unittest.TestCase):\n",
    "    def test1(self): self.assertEqual(Answer2(0),0)\n",
    "    def test2(self): self.assertEqual(Answer2(0),0)\n",
    "    def test3(self): self.assertEqual(Answer2(0),0)\n",
    "    def test4(self): self.assertEqual(Answer2(0),0)\n",
    "TestRunner(TestAnswer2)"
   ]
  },
  {
   "cell_type": "code",
   "execution_count": null,
   "metadata": {},
   "outputs": [],
   "source": [
    "Answer2(puzzledata)"
   ]
  }
 ],
 "metadata": {
  "kernelspec": {
   "display_name": "Python 3",
   "language": "python",
   "name": "python3"
  },
  "language_info": {
   "codemirror_mode": {
    "name": "ipython",
    "version": 3
   },
   "file_extension": ".py",
   "mimetype": "text/x-python",
   "name": "python",
   "nbconvert_exporter": "python",
   "pygments_lexer": "ipython3",
   "version": "3.6.3"
  }
 },
 "nbformat": 4,
 "nbformat_minor": 2
}
