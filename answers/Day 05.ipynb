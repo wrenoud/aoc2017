{
 "cells": [
  {
   "cell_type": "code",
   "execution_count": null,
   "metadata": {},
   "outputs": [],
   "source": [
    "import unittest\n",
    "from helpers import TestRunner"
   ]
  },
  {
   "cell_type": "code",
   "execution_count": null,
   "metadata": {},
   "outputs": [],
   "source": [
    "puzzledata = \"\"\"\"\"\""
   ]
  },
  {
   "cell_type": "markdown",
   "metadata": {},
   "source": [
    "# Part 1"
   ]
  },
  {
   "cell_type": "code",
   "execution_count": null,
   "metadata": {},
   "outputs": [],
   "source": [
    "def Answer1(data):\n",
    "    return 0\n",
    "\n",
    "class TestAnswer1(unittest.TestCase):\n",
    "    def test1(self): self.assertEqual(Answer1(0),0)\n",
    "    def test2(self): self.assertEqual(Answer1(0),0)\n",
    "    def test3(self): self.assertEqual(Answer1(0),0)\n",
    "    def test4(self): self.assertEqual(Answer1(0),0)\n",
    "TestRunner(TestAnswer1)"
   ]
  },
  {
   "cell_type": "code",
   "execution_count": null,
   "metadata": {},
   "outputs": [],
   "source": [
    "Answer1(puzzledata)"
   ]
  },
  {
   "cell_type": "markdown",
   "metadata": {},
   "source": [
    "# Part 2"
   ]
  },
  {
   "cell_type": "code",
   "execution_count": null,
   "metadata": {},
   "outputs": [],
   "source": [
    "def Answer2(data):\n",
    "    return 0\n",
    "\n",
    "class TestAnswer2(unittest.TestCase):\n",
    "    def test1(self): self.assertEqual(Answer2(0),0)\n",
    "    def test2(self): self.assertEqual(Answer2(0),0)\n",
    "    def test3(self): self.assertEqual(Answer2(0),0)\n",
    "    def test4(self): self.assertEqual(Answer2(0),0)\n",
    "TestRunner(TestAnswer2)"
   ]
  },
  {
   "cell_type": "code",
   "execution_count": null,
   "metadata": {},
   "outputs": [],
   "source": [
    "Answer2(puzzledata)"
   ]
  }
 ],
 "metadata": {
  "kernelspec": {
   "display_name": "Python 3",
   "language": "python",
   "name": "python3"
  },
  "language_info": {
   "codemirror_mode": {
    "name": "ipython",
    "version": 3
   },
   "file_extension": ".py",
   "mimetype": "text/x-python",
   "name": "python",
   "nbconvert_exporter": "python",
   "pygments_lexer": "ipython3",
   "version": "3.6.3"
  }
 },
 "nbformat": 4,
 "nbformat_minor": 2
}
