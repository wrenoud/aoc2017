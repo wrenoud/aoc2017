{
 "cells": [
  {
   "cell_type": "code",
   "execution_count": 1,
   "metadata": {},
   "outputs": [],
   "source": [
    "import unittest\n",
    "from helpers import TestRunner"
   ]
  },
  {
   "cell_type": "code",
   "execution_count": 2,
   "metadata": {},
   "outputs": [],
   "source": [
    "with open('../data/day_12.txt','r') as f:\n",
    "    puzzledata = list(l.strip().split(' <-> ') for l in f.readlines())\n",
    "    puzzledata = dict((k,v.split(', ')) for k,v in puzzledata)"
   ]
  },
  {
   "cell_type": "markdown",
   "metadata": {},
   "source": [
    "# Part 1 and 2"
   ]
  },
  {
   "cell_type": "code",
   "execution_count": 3,
   "metadata": {},
   "outputs": [],
   "source": [
    "def Answer(data):\n",
    "    def add(prog, linked, unlinked):\n",
    "        unlinked.discard(prog)\n",
    "        linked.add(prog)\n",
    "        for linkedprog in data[prog]:\n",
    "            if linkedprog not in linked:\n",
    "                add(linkedprog, linked, unlinked)\n",
    "\n",
    "    unlinked = set(data.keys())\n",
    "    linkedgroups = []\n",
    "        \n",
    "    while len(unlinked) > 0:\n",
    "        linkedgroups.append(set())\n",
    "        add(unlinked.pop(), linkedgroups[-1], unlinked)\n",
    "    \n",
    "    return [len(group) for group in linkedgroups if '0' in group][0], len(linkedgroups)"
   ]
  },
  {
   "cell_type": "code",
   "execution_count": 4,
   "metadata": {},
   "outputs": [
    {
     "name": "stderr",
     "output_type": "stream",
     "text": [
      ".\n",
      "----------------------------------------------------------------------\n",
      "Ran 1 test in 0.005s\n",
      "\n",
      "OK\n"
     ]
    },
    {
     "data": {
      "text/plain": [
       "<unittest.runner.TextTestResult run=1 errors=0 failures=0>"
      ]
     },
     "execution_count": 4,
     "metadata": {},
     "output_type": "execute_result"
    }
   ],
   "source": [
    "class TestAnswer(unittest.TestCase):\n",
    "    def test1(self):\n",
    "        testdata = \"\"\"0 <-> 2\n",
    "1 <-> 1\n",
    "2 <-> 0, 3, 4\n",
    "3 <-> 2, 4\n",
    "4 <-> 2, 3, 6\n",
    "5 <-> 6\n",
    "6 <-> 4, 5\"\"\"\n",
    "        testdata = list(l.strip().split(' <-> ') for l in testdata.split('\\n'))\n",
    "        testdata = dict((k,v.split(', ')) for k,v in testdata)\n",
    "        self.assertEqual(Answer(testdata),(6,2))\n",
    "TestRunner(TestAnswer)"
   ]
  },
  {
   "cell_type": "code",
   "execution_count": 5,
   "metadata": {},
   "outputs": [
    {
     "data": {
      "text/plain": [
       "(380, 181)"
      ]
     },
     "execution_count": 5,
     "metadata": {},
     "output_type": "execute_result"
    }
   ],
   "source": [
    "Answer(puzzledata)"
   ]
  },
  {
   "cell_type": "code",
   "execution_count": null,
   "metadata": {},
   "outputs": [],
   "source": []
  }
 ],
 "metadata": {
  "kernelspec": {
   "display_name": "Python 3",
   "language": "python",
   "name": "python3"
  },
  "language_info": {
   "codemirror_mode": {
    "name": "ipython",
    "version": 3
   },
   "file_extension": ".py",
   "mimetype": "text/x-python",
   "name": "python",
   "nbconvert_exporter": "python",
   "pygments_lexer": "ipython3",
   "version": "3.6.3"
  }
 },
 "nbformat": 4,
 "nbformat_minor": 2
}
